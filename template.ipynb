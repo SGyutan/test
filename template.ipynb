{
 "metadata": {
  "language_info": {
   "codemirror_mode": {
    "name": "ipython",
    "version": 3
   },
   "file_extension": ".py",
   "mimetype": "text/x-python",
   "name": "python",
   "nbconvert_exporter": "python",
   "pygments_lexer": "ipython3",
   "version": 3
  },
  "orig_nbformat": 2
 },
 "nbformat": 4,
 "nbformat_minor": 2,
 "cells": [
  {
   "cell_type": "code",
   "execution_count": null,
   "metadata": {},
   "outputs": [],
   "source": [
    "import os\n",
    "# import time\n",
    "# from datetime import datetime\n",
    "# from pprint import pprint\n",
    "from pathlib import Path\n",
    "\n",
    "import pandas as pd\n",
    "from pandas import Series, DataFrame\n",
    "\n",
    "# import scipy as sp\n",
    "# from scipy.optimize import leastsq\n",
    "import numpy as np\n",
    "\n",
    "# import matplotlib.pyplot as plt\n",
    "# import seaborn as sns\n",
    "# sns.set_style('whitegrid')\n",
    "# %matplotlib inline\n",
    "\n",
    "# #高解像度の設定（きれいな図が出力されますがファイルサイズが大きくなります）\n",
    "# %config InlineBackend.figure_formats = {'png', 'retina'}\n",
    "\n",
    "\n",
    "# from sklearn.externals import joblib"
   ]
  },
  {
   "cell_type": "code",
   "execution_count": null,
   "metadata": {},
   "outputs": [],
   "source": [
    "# #うまく自作モジュールが読み込めないとき\n",
    "# import sys\n",
    "# sys.path.append('./pysfunclib')\n",
    "# sys.path.append('./autoreglib')\n"
   ]
  },
  {
   "cell_type": "code",
   "execution_count": null,
   "metadata": {},
   "outputs": [],
   "source": [
    "#　自作モジュールを変更したとき\n",
    "%load_ext autoreload\n",
    "%autoreload\n",
    "%autoreload 2"
   ]
  }
 ]
}